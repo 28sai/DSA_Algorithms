{
 "cells": [
  {
   "cell_type": "code",
   "execution_count": 1,
   "id": "1ee44826-23a5-435f-88cd-b803673d9afe",
   "metadata": {},
   "outputs": [
    {
     "name": "stdout",
     "output_type": "stream",
     "text": [
      "Element found at index 3\n"
     ]
    }
   ],
   "source": [
    "def linear_search(arr,target):\n",
    "    \"\"\"\n",
    "    Perform linear search on the array.\n",
    "    \n",
    "    Args:\n",
    "        arr (list): The list to search in.\n",
    "        target (int): The element to search for.\n",
    "\n",
    "    Returns:\n",
    "        int: The index of the target if found, else -1.\n",
    "    \"\"\"\n",
    "    for i in range(len(arr)):\n",
    "        if arr[i] == target:\n",
    "            return i  \n",
    "    return -1 \n",
    "\n",
    "arr=[10,25,7,30,45]\n",
    "target=30\n",
    "res=linear_search(arr, target)\n",
    "if res!=-1:\n",
    "    print(f\"Element found at index {res}\")\n",
    "else:\n",
    "    print(\"Element not found in the array.\")\n"
   ]
  },
  {
   "cell_type": "code",
   "execution_count": null,
   "id": "9c3d5092-74c4-4437-aff5-262e90aac7ab",
   "metadata": {},
   "outputs": [],
   "source": []
  }
 ],
 "metadata": {
  "kernelspec": {
   "display_name": "Python 3 (ipykernel)",
   "language": "python",
   "name": "python3"
  },
  "language_info": {
   "codemirror_mode": {
    "name": "ipython",
    "version": 3
   },
   "file_extension": ".py",
   "mimetype": "text/x-python",
   "name": "python",
   "nbconvert_exporter": "python",
   "pygments_lexer": "ipython3",
   "version": "3.13.3"
  }
 },
 "nbformat": 4,
 "nbformat_minor": 5
}
