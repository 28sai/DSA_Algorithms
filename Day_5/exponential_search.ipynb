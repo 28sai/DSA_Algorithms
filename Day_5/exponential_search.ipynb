{
 "cells": [
  {
   "cell_type": "code",
   "execution_count": null,
   "id": "22121bae-7a3a-4a45-bf84-2a5796ddbefb",
   "metadata": {},
   "outputs": [],
   "source": [
    "def binary_search(arr,left,right,target):\n",
    "    while left<=right:\n",
    "        mid=(left+right)//2\n",
    "        if arr[mid]==target:\n",
    "            return mid\n",
    "        elif arr[mid]<target:\n",
    "            left=mid+1\n",
    "        else:\n",
    "            right=mid-1\n",
    "    return -1\n",
    "def exponential_search(arr,target):\n",
    "    \"\"\"\n",
    "    Perform Exponential Search on a sorted array.\n",
    "\n",
    "    Args:\n",
    "        arr (list): The sorted array.\n",
    "        target (int): The value to search for.\n",
    "\n",
    "    Returns:\n",
    "        int: Index of the target if found, else -1.\n",
    "    \"\"\"\n",
    "    if arr[0]==target:\n",
    "        return 0\n",
    "    i=1\n",
    "    n=len(arr)\n",
    "    while i<n and arr[i]<=target:\n",
    "        i*=2\n",
    "    return binary_search(arr,i//2,min(i,n-1),target)\n",
    "arr=[3,6,9,12,15,18,21,24,27,30]\n",
    "target=21\n",
    "res=exponential_search(arr,target)\n",
    "if res!=-1:\n",
    "    print(f\"Element found at index {result}\")\n",
    "else:\n",
    "    print(\"Element not found.\")\n"
   ]
  }
 ],
 "metadata": {
  "kernelspec": {
   "display_name": "Python 3 (ipykernel)",
   "language": "python",
   "name": "python3"
  },
  "language_info": {
   "codemirror_mode": {
    "name": "ipython",
    "version": 3
   },
   "file_extension": ".py",
   "mimetype": "text/x-python",
   "name": "python",
   "nbconvert_exporter": "python",
   "pygments_lexer": "ipython3",
   "version": "3.13.3"
  }
 },
 "nbformat": 4,
 "nbformat_minor": 5
}
