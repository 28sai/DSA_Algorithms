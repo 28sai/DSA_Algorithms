{
 "cells": [
  {
   "cell_type": "code",
   "execution_count": null,
   "id": "6542c92f-aaf3-4993-a585-fe220d544c99",
   "metadata": {},
   "outputs": [],
   "source": [
    "import math\n",
    "\n",
    "def jump_search(arr,target):\n",
    "    \"\"\"\n",
    "    Perform Jump Search on a sorted array.\n",
    "\n",
    "    Args:\n",
    "        arr (list): The sorted array.\n",
    "        target (int): The value to search for.\n",
    "\n",
    "    Returns:\n",
    "        int: Index of target if found, else -1.\n",
    "    \"\"\"\n",
    "    n=len(arr)\n",
    "    step=int(math.sqrt(n))\n",
    "    prev=0\n",
    "    while prev<n and arr[min(step,n)-1]<target:\n",
    "        prev=step\n",
    "        step+=int(math.sqrt(n))\n",
    "        if prev>=n:\n",
    "            return -1\n",
    "    while prev<min(step,n):\n",
    "        if arr[prev]==target:\n",
    "            return prev\n",
    "        prev+=1\n",
    "    return -1\n",
    "arr=[1,4,7,12,15,19,24,29,33,37]\n",
    "target=19\n",
    "res=jump_search(arr,target)\n",
    "if res!=-1:\n",
    "    print(f\"Element found at index {res}\")\n",
    "else:\n",
    "    print(\"Element not found.\")\n"
   ]
  }
 ],
 "metadata": {
  "kernelspec": {
   "display_name": "Python 3 (ipykernel)",
   "language": "python",
   "name": "python3"
  },
  "language_info": {
   "codemirror_mode": {
    "name": "ipython",
    "version": 3
   },
   "file_extension": ".py",
   "mimetype": "text/x-python",
   "name": "python",
   "nbconvert_exporter": "python",
   "pygments_lexer": "ipython3",
   "version": "3.13.3"
  }
 },
 "nbformat": 4,
 "nbformat_minor": 5
}
