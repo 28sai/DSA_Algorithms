{
 "cells": [
  {
   "cell_type": "code",
   "execution_count": null,
   "id": "21658c74-d149-433d-a67d-79bab3ef9e02",
   "metadata": {},
   "outputs": [],
   "source": [
    "def binary_search(arr, target):\n",
    "    \"\"\"\n",
    "    Perform binary search on a sorted array.\n",
    "\n",
    "    Args:\n",
    "        arr (list): The sorted list.\n",
    "        target (int): The value to search for.\n",
    "\n",
    "    Returns:\n",
    "        int: Index of target if found, else -1.\n",
    "    \"\"\"\n",
    "    left,right=0,len(arr)-1\n",
    "    while left<=right:\n",
    "        mid=(left+right)//2\n",
    "        # Check if mid element is the target\n",
    "        if arr[mid]==target:\n",
    "            return mid\n",
    "        elif arr[mid]<target:\n",
    "            left=mid+1  # Search right half\n",
    "        else:\n",
    "            right=mid-1  # Search left half\n",
    "    return -1 \n",
    "arr=[5,10,15,20,25,30,35]\n",
    "target=20\n",
    "res=binary_search(arr,target)\n",
    "if res!=-1:\n",
    "    print(f\"Element found at index {res}\")\n",
    "else:\n",
    "    print(\"Element not found.\")\n"
   ]
  }
 ],
 "metadata": {
  "kernelspec": {
   "display_name": "Python 3 (ipykernel)",
   "language": "python",
   "name": "python3"
  },
  "language_info": {
   "codemirror_mode": {
    "name": "ipython",
    "version": 3
   },
   "file_extension": ".py",
   "mimetype": "text/x-python",
   "name": "python",
   "nbconvert_exporter": "python",
   "pygments_lexer": "ipython3",
   "version": "3.13.3"
  }
 },
 "nbformat": 4,
 "nbformat_minor": 5
}
