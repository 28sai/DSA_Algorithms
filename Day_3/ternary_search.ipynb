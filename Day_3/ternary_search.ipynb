{
 "cells": [
  {
   "cell_type": "code",
   "execution_count": null,
   "id": "482a1b35-5fe7-4af4-a5f6-f8c10f9dd629",
   "metadata": {},
   "outputs": [],
   "source": [
    "def ternary_search(arr,target):\n",
    "    \"\"\"\n",
    "    Perform ternary search on a sorted array.\n",
    "\n",
    "    Args:\n",
    "        arr (list): The sorted list.\n",
    "        target (int): The value to search for.\n",
    "\n",
    "    Returns:\n",
    "        int: Index of target if found, else -1.\n",
    "    \"\"\"\n",
    "    left=0\n",
    "    right=len(arr)-1\n",
    "\n",
    "    while left<=right:\n",
    "        mid1=left+(right-left)//3\n",
    "        mid2=right-(right-left)//3\n",
    "\n",
    "        if arr[mid1]==target:\n",
    "            return mid1\n",
    "        if arr[mid2]==target:\n",
    "            return mid2\n",
    "\n",
    "        if target<arr[mid1]:\n",
    "            right=mid1-1\n",
    "        elif target>arr[mid2]:\n",
    "            left=mid2+1\n",
    "        else:\n",
    "            left=mid1+1\n",
    "            right=mid2-1\n",
    "    return -1\n",
    "\n",
    "arr=[2,5,8,12,15,20,25,30]\n",
    "target=15\n",
    "res=ternary_search(arr,target)\n",
    "if res!=-1:\n",
    "    print(f\"Element found at index {res}\")\n",
    "else:\n",
    "    print(\"Element not found.\")\n"
   ]
  }
 ],
 "metadata": {
  "kernelspec": {
   "display_name": "Python 3 (ipykernel)",
   "language": "python",
   "name": "python3"
  },
  "language_info": {
   "codemirror_mode": {
    "name": "ipython",
    "version": 3
   },
   "file_extension": ".py",
   "mimetype": "text/x-python",
   "name": "python",
   "nbconvert_exporter": "python",
   "pygments_lexer": "ipython3",
   "version": "3.13.3"
  }
 },
 "nbformat": 4,
 "nbformat_minor": 5
}
