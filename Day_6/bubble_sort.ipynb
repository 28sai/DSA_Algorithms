{
 "cells": [
  {
   "cell_type": "code",
   "execution_count": 1,
   "id": "9dfb64dd-346f-4179-837d-adbcd5c47be9",
   "metadata": {},
   "outputs": [
    {
     "name": "stdout",
     "output_type": "stream",
     "text": [
      "Sorted array: [11, 12, 22, 25, 34, 64, 90]\n"
     ]
    }
   ],
   "source": [
    "def bubble_sort(arr):\n",
    "    \"\"\"\n",
    "    Sorts the array using Bubble Sort algorithm.\n",
    "\n",
    "    Args:\n",
    "        arr (list): The list of numbers to be sorted.\n",
    "\n",
    "    Returns:\n",
    "        list: Sorted list.\n",
    "    \"\"\"\n",
    "    n=len(arr)\n",
    "    for i in range(n):\n",
    "        swapped=False\n",
    "        for j in range(0,n-i-1):\n",
    "            if arr[j]>arr[j+1]:\n",
    "                arr[j],arr[j+1]=arr[j+1],arr[j]\n",
    "                swapped=True\n",
    "        if not swapped:\n",
    "            break\n",
    "    return arr\n",
    "\n",
    "arr=[64,34,25,12,22,11,90]\n",
    "print(\"Sorted array:\",bubble_sort(arr))\n"
   ]
  },
  {
   "cell_type": "code",
   "execution_count": null,
   "id": "b19b5ee9-572c-410a-82f0-45ac47371400",
   "metadata": {},
   "outputs": [],
   "source": []
  }
 ],
 "metadata": {
  "kernelspec": {
   "display_name": "Python 3 (ipykernel)",
   "language": "python",
   "name": "python3"
  },
  "language_info": {
   "codemirror_mode": {
    "name": "ipython",
    "version": 3
   },
   "file_extension": ".py",
   "mimetype": "text/x-python",
   "name": "python",
   "nbconvert_exporter": "python",
   "pygments_lexer": "ipython3",
   "version": "3.13.3"
  }
 },
 "nbformat": 4,
 "nbformat_minor": 5
}
